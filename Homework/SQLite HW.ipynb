{
 "cells": [
  {
   "cell_type": "code",
   "execution_count": 2,
   "id": "1069451b",
   "metadata": {},
   "outputs": [],
   "source": [
    "import sqlite3\n",
    "import pandas as pd\n",
    "import matplotlib.pyplot as plt"
   ]
  },
  {
   "cell_type": "code",
   "execution_count": 3,
   "id": "a6decde9",
   "metadata": {},
   "outputs": [
    {
     "name": "stdout",
     "output_type": "stream",
     "text": [
      "Database on\n"
     ]
    }
   ],
   "source": [
    "#creating connection to SQlite database\n",
    "connection = sqlite3.connect(\"student_grades.db\")\n",
    "\n",
    "#checking for success\n",
    "print(\"Database on\")"
   ]
  },
  {
   "cell_type": "code",
   "execution_count": 4,
   "id": "a8703d82",
   "metadata": {},
   "outputs": [],
   "source": [
    "#creating cursor\n",
    "cursor = connection.cursor()"
   ]
  },
  {
   "cell_type": "code",
   "execution_count": 9,
   "id": "03e0bdb9",
   "metadata": {},
   "outputs": [
    {
     "name": "stdout",
     "output_type": "stream",
     "text": [
      "Cursor created!\n"
     ]
    },
    {
     "data": {
      "text/plain": [
       "<sqlite3.Cursor at 0x105c633c0>"
      ]
     },
     "execution_count": 9,
     "metadata": {},
     "output_type": "execute_result"
    }
   ],
   "source": [
    "#student table\n",
    "print(\"Cursor created!\")\n",
    "cursor.execute('''\n",
    "CREATE TABLE IF NOT EXISTS students (\n",
    "    students_id INTEGER PRIMARY KEY AUTOINCREMENT,\n",
    "    first_name TEXT,\n",
    "    last_name TEXT\n",
    ")\n",
    "''')"
   ]
  },
  {
   "cell_type": "code",
   "execution_count": 12,
   "id": "fb12dd1e",
   "metadata": {},
   "outputs": [
    {
     "name": "stdout",
     "output_type": "stream",
     "text": [
      "Success\n"
     ]
    }
   ],
   "source": [
    "#grades table\n",
    "cursor.execute('''\n",
    "CREATE TABLE IF NOT EXISTS grades (\n",
    "  grade_id INTEGER PRIMARY KEY AUTOINCREMENT,\n",
    "  students_id INTEGER,  -- changed to students_id to match the students table\n",
    "  subject TEXT,\n",
    "  grade INTEGER,\n",
    "  FOREIGN KEY (students_id) REFERENCES students(students_id)  -- corrected column name\n",
    ")\n",
    "''')\n",
    "print(\"Success\")"
   ]
  },
  {
   "cell_type": "code",
   "execution_count": 16,
   "id": "7a53d32f",
   "metadata": {},
   "outputs": [],
   "source": [
    "students_data = [\n",
    "( \"Alice\", \"Johnson\"),\n",
    "( \"Bob\", \"Smith\"),\n",
    "( \"Carol\", \"White\"),\n",
    "( \"David\", \"Brown\"),\n",
    "( \"Eve\", \"Davis\")\n",
    "]"
   ]
  },
  {
   "cell_type": "code",
   "execution_count": 27,
   "id": "031a80c0",
   "metadata": {},
   "outputs": [],
   "source": [
    "# Sample data to insert into the sales table\n",
    "grades_data = [\n",
    "(1, 'Math', 95),\n",
    "(1, 'English', 88),\n",
    "(1, 'History', 90),\n",
    "(2, 'Math', 82),\n",
    "(2, 'English', 76),\n",
    "(2, 'History', 85),\n",
    "(3, 'Math', 89),\n",
    "(3, 'English', 92),\n",
    "(3, 'Science', 87),\n",
    "(4, 'Math', 77),\n",
    "(4, 'English', 81),\n",
    "(4, 'History', 84),\n",
    "(5, 'Math', 91),\n",
    "(5, 'English', 86),\n",
    "(5, 'Science', 93)\n",
    "]"
   ]
  },
  {
   "cell_type": "code",
   "execution_count": 28,
   "id": "b02ba4bb",
   "metadata": {},
   "outputs": [
    {
     "name": "stdout",
     "output_type": "stream",
     "text": [
      "Data inserted into the sales table!\n"
     ]
    }
   ],
   "source": [
    "cursor.executemany('''\n",
    "INSERT INTO grades (students_id, subject, grade) VALUES (?, ?, ?)\n",
    "''', grades_data)\n",
    "connection.commit()\n",
    "print(\"Data inserted into the sales table!\")"
   ]
  },
  {
   "cell_type": "code",
   "execution_count": 19,
   "id": "2209af8d",
   "metadata": {},
   "outputs": [
    {
     "name": "stdout",
     "output_type": "stream",
     "text": [
      "Data inserted into the sales table!\n"
     ]
    }
   ],
   "source": [
    "cursor.executemany('''\n",
    "INSERT INTO students (first_name, last_name) VALUES (?, ?)\n",
    "''', students_data)\n",
    "connection.commit()\n",
    "print(\"Data inserted into the sales table!\")"
   ]
  },
  {
   "cell_type": "code",
   "execution_count": 29,
   "id": "408227e0",
   "metadata": {},
   "outputs": [
    {
     "data": {
      "text/plain": [
       "[('Alice', 'Johnson', 'Math', 95),\n",
       " ('Alice', 'Johnson', 'English', 88),\n",
       " ('Alice', 'Johnson', 'History', 90),\n",
       " ('Bob', 'Smith', 'Math', 82),\n",
       " ('Bob', 'Smith', 'English', 76),\n",
       " ('Bob', 'Smith', 'History', 85),\n",
       " ('Alice', 'Johnson', 'Math', 95),\n",
       " ('Alice', 'Johnson', 'English', 88),\n",
       " ('Alice', 'Johnson', 'History', 90),\n",
       " ('Bob', 'Smith', 'Math', 82),\n",
       " ('Bob', 'Smith', 'English', 76),\n",
       " ('Bob', 'Smith', 'History', 85),\n",
       " ('Carol', 'White', 'Math', 89),\n",
       " ('Carol', 'White', 'English', 92),\n",
       " ('Carol', 'White', 'Science', 87),\n",
       " ('David', 'Brown', 'Math', 77),\n",
       " ('David', 'Brown', 'English', 81),\n",
       " ('David', 'Brown', 'History', 84),\n",
       " ('Eve', 'Davis', 'Math', 91),\n",
       " ('Eve', 'Davis', 'English', 86),\n",
       " ('Eve', 'Davis', 'Science', 93)]"
      ]
     },
     "execution_count": 29,
     "metadata": {},
     "output_type": "execute_result"
    }
   ],
   "source": [
    "#1. Retrieve all students' names and their grades.\n",
    "cursor.execute('''\n",
    "SELECT students.first_name, students.last_name, grades.subject, grades.grade\n",
    "FROM students\n",
    "JOIN grades ON students.students_id = grades.students_id;\n",
    "''')\n",
    "cursor.fetchall()"
   ]
  },
  {
   "cell_type": "code",
   "execution_count": 31,
   "id": "3e0439a9",
   "metadata": {},
   "outputs": [
    {
     "data": {
      "text/plain": [
       "[('Alice', 'Johnson', 91.0),\n",
       " ('Bob', 'Smith', 81.0),\n",
       " ('Carol', 'White', 89.33333333333333),\n",
       " ('David', 'Brown', 80.66666666666667),\n",
       " ('Eve', 'Davis', 90.0)]"
      ]
     },
     "execution_count": 31,
     "metadata": {},
     "output_type": "execute_result"
    }
   ],
   "source": [
    "#2. Find the average grade for each student.\n",
    "\n",
    "cursor.execute('''\n",
    "SELECT students.first_name, students.last_name, AVG(grades.grade) AS average_grade\n",
    "FROM students\n",
    "JOIN grades ON students.students_id = grades.students_id\n",
    "GROUP BY students.students_id;\n",
    "''')\n",
    "cursor.fetchall()"
   ]
  },
  {
   "cell_type": "code",
   "execution_count": 32,
   "id": "dd623dce",
   "metadata": {},
   "outputs": [
    {
     "data": {
      "text/plain": [
       "[('Alice', 'Johnson', 91.0)]"
      ]
     },
     "execution_count": 32,
     "metadata": {},
     "output_type": "execute_result"
    }
   ],
   "source": [
    "#3. Find the student with the highest average grade.\n",
    "\n",
    "cursor.execute('''\n",
    "SELECT students.first_name, students.last_name, AVG(grades.grade) AS average_grade\n",
    "FROM students\n",
    "JOIN grades ON students.students_id = grades.students_id\n",
    "GROUP BY students.students_id\n",
    "ORDER BY average_grade DESC\n",
    "Limit 1;\n",
    "''')\n",
    "cursor.fetchall()"
   ]
  },
  {
   "cell_type": "code",
   "execution_count": 33,
   "id": "53be0ca6",
   "metadata": {},
   "outputs": [
    {
     "data": {
      "text/plain": [
       "[(87.28571428571429,)]"
      ]
     },
     "execution_count": 33,
     "metadata": {},
     "output_type": "execute_result"
    }
   ],
   "source": [
    "#4. Find the average grade for the Math subject.\n",
    "\n",
    "cursor.execute('''\n",
    "SELECT AVG(grade) \n",
    "FROM grades\n",
    "WHERE subject = 'Math';\n",
    "''')\n",
    "cursor.fetchall()"
   ]
  },
  {
   "cell_type": "code",
   "execution_count": 35,
   "id": "2656050c",
   "metadata": {},
   "outputs": [
    {
     "data": {
      "text/plain": [
       "[('Alice', 'Johnson', 'Math', 95),\n",
       " ('Alice', 'Johnson', 'Math', 95),\n",
       " ('Carol', 'White', 'English', 92),\n",
       " ('Eve', 'Davis', 'Math', 91),\n",
       " ('Eve', 'Davis', 'Science', 93)]"
      ]
     },
     "execution_count": 35,
     "metadata": {},
     "output_type": "execute_result"
    }
   ],
   "source": [
    "#5. List all students who scored above 90 in any subject.\n",
    "\n",
    "cursor.execute('''\n",
    "SELECT students.first_name, students.last_name, grades.subject, grades.grade\n",
    "FROM students\n",
    "JOIN grades ON students.students_id = grades.students_id\n",
    "WHERE grades.grade > 90;\n",
    "''')\n",
    "cursor.fetchall()"
   ]
  },
  {
   "cell_type": "code",
   "execution_count": 36,
   "id": "f1e8a293",
   "metadata": {},
   "outputs": [],
   "source": []
  },
  {
   "cell_type": "code",
   "execution_count": 39,
   "id": "68870e26",
   "metadata": {},
   "outputs": [
    {
     "data": {
      "text/html": [
       "<div>\n",
       "<style scoped>\n",
       "    .dataframe tbody tr th:only-of-type {\n",
       "        vertical-align: middle;\n",
       "    }\n",
       "\n",
       "    .dataframe tbody tr th {\n",
       "        vertical-align: top;\n",
       "    }\n",
       "\n",
       "    .dataframe thead th {\n",
       "        text-align: right;\n",
       "    }\n",
       "</style>\n",
       "<table border=\"1\" class=\"dataframe\">\n",
       "  <thead>\n",
       "    <tr style=\"text-align: right;\">\n",
       "      <th></th>\n",
       "      <th>students_id</th>\n",
       "      <th>first_name</th>\n",
       "      <th>last_name</th>\n",
       "    </tr>\n",
       "  </thead>\n",
       "  <tbody>\n",
       "    <tr>\n",
       "      <th>0</th>\n",
       "      <td>1</td>\n",
       "      <td>Alice</td>\n",
       "      <td>Johnson</td>\n",
       "    </tr>\n",
       "    <tr>\n",
       "      <th>1</th>\n",
       "      <td>2</td>\n",
       "      <td>Bob</td>\n",
       "      <td>Smith</td>\n",
       "    </tr>\n",
       "    <tr>\n",
       "      <th>2</th>\n",
       "      <td>3</td>\n",
       "      <td>Carol</td>\n",
       "      <td>White</td>\n",
       "    </tr>\n",
       "    <tr>\n",
       "      <th>3</th>\n",
       "      <td>4</td>\n",
       "      <td>David</td>\n",
       "      <td>Brown</td>\n",
       "    </tr>\n",
       "    <tr>\n",
       "      <th>4</th>\n",
       "      <td>5</td>\n",
       "      <td>Eve</td>\n",
       "      <td>Davis</td>\n",
       "    </tr>\n",
       "  </tbody>\n",
       "</table>\n",
       "</div>"
      ],
      "text/plain": [
       "   students_id first_name last_name\n",
       "0            1      Alice   Johnson\n",
       "1            2        Bob     Smith\n",
       "2            3      Carol     White\n",
       "3            4      David     Brown\n",
       "4            5        Eve     Davis"
      ]
     },
     "execution_count": 39,
     "metadata": {},
     "output_type": "execute_result"
    }
   ],
   "source": [
    "students_df = pd.read_sql_query(\"SELECT * FROM students\", connection)\n",
    "students_df.head()"
   ]
  },
  {
   "cell_type": "code",
   "execution_count": 40,
   "id": "b9d18649",
   "metadata": {},
   "outputs": [
    {
     "data": {
      "text/html": [
       "<div>\n",
       "<style scoped>\n",
       "    .dataframe tbody tr th:only-of-type {\n",
       "        vertical-align: middle;\n",
       "    }\n",
       "\n",
       "    .dataframe tbody tr th {\n",
       "        vertical-align: top;\n",
       "    }\n",
       "\n",
       "    .dataframe thead th {\n",
       "        text-align: right;\n",
       "    }\n",
       "</style>\n",
       "<table border=\"1\" class=\"dataframe\">\n",
       "  <thead>\n",
       "    <tr style=\"text-align: right;\">\n",
       "      <th></th>\n",
       "      <th>grade_id</th>\n",
       "      <th>students_id</th>\n",
       "      <th>subject</th>\n",
       "      <th>grade</th>\n",
       "    </tr>\n",
       "  </thead>\n",
       "  <tbody>\n",
       "    <tr>\n",
       "      <th>0</th>\n",
       "      <td>1</td>\n",
       "      <td>1</td>\n",
       "      <td>Math</td>\n",
       "      <td>95</td>\n",
       "    </tr>\n",
       "    <tr>\n",
       "      <th>1</th>\n",
       "      <td>2</td>\n",
       "      <td>1</td>\n",
       "      <td>English</td>\n",
       "      <td>88</td>\n",
       "    </tr>\n",
       "    <tr>\n",
       "      <th>2</th>\n",
       "      <td>3</td>\n",
       "      <td>1</td>\n",
       "      <td>History</td>\n",
       "      <td>90</td>\n",
       "    </tr>\n",
       "    <tr>\n",
       "      <th>3</th>\n",
       "      <td>4</td>\n",
       "      <td>2</td>\n",
       "      <td>Math</td>\n",
       "      <td>82</td>\n",
       "    </tr>\n",
       "    <tr>\n",
       "      <th>4</th>\n",
       "      <td>5</td>\n",
       "      <td>2</td>\n",
       "      <td>English</td>\n",
       "      <td>76</td>\n",
       "    </tr>\n",
       "  </tbody>\n",
       "</table>\n",
       "</div>"
      ],
      "text/plain": [
       "   grade_id  students_id  subject  grade\n",
       "0         1            1     Math     95\n",
       "1         2            1  English     88\n",
       "2         3            1  History     90\n",
       "3         4            2     Math     82\n",
       "4         5            2  English     76"
      ]
     },
     "execution_count": 40,
     "metadata": {},
     "output_type": "execute_result"
    }
   ],
   "source": [
    "grades_df = pd.read_sql_query(\"SELECT * FROM grades\", connection)\n",
    "grades_df.head()"
   ]
  },
  {
   "cell_type": "code",
   "execution_count": 44,
   "id": "67a0c882",
   "metadata": {},
   "outputs": [
    {
     "data": {
      "text/plain": [
       "[('Alice', 'Johnson', 'Math', 95),\n",
       " ('Alice', 'Johnson', 'English', 88),\n",
       " ('Alice', 'Johnson', 'History', 90),\n",
       " ('Bob', 'Smith', 'Math', 82),\n",
       " ('Bob', 'Smith', 'English', 76),\n",
       " ('Bob', 'Smith', 'History', 85),\n",
       " ('Alice', 'Johnson', 'Math', 95),\n",
       " ('Alice', 'Johnson', 'English', 88),\n",
       " ('Alice', 'Johnson', 'History', 90),\n",
       " ('Bob', 'Smith', 'Math', 82),\n",
       " ('Bob', 'Smith', 'English', 76),\n",
       " ('Bob', 'Smith', 'History', 85),\n",
       " ('Carol', 'White', 'Math', 89),\n",
       " ('Carol', 'White', 'English', 92),\n",
       " ('Carol', 'White', 'Science', 87),\n",
       " ('David', 'Brown', 'Math', 77),\n",
       " ('David', 'Brown', 'English', 81),\n",
       " ('David', 'Brown', 'History', 84),\n",
       " ('Eve', 'Davis', 'Math', 91),\n",
       " ('Eve', 'Davis', 'English', 86),\n",
       " ('Eve', 'Davis', 'Science', 93)]"
      ]
     },
     "execution_count": 44,
     "metadata": {},
     "output_type": "execute_result"
    }
   ],
   "source": [
    "join = cursor.execute('''\n",
    "SELECT students.first_name, students.last_name, grades.subject, grades.grade\n",
    "FROM students\n",
    "JOIN grades ON students.students_id = grades.students_id\n",
    "''')\n",
    "cursor.fetchall()"
   ]
  },
  {
   "cell_type": "code",
   "execution_count": 46,
   "id": "5355d675",
   "metadata": {},
   "outputs": [
    {
     "data": {
      "text/html": [
       "<div>\n",
       "<style scoped>\n",
       "    .dataframe tbody tr th:only-of-type {\n",
       "        vertical-align: middle;\n",
       "    }\n",
       "\n",
       "    .dataframe tbody tr th {\n",
       "        vertical-align: top;\n",
       "    }\n",
       "\n",
       "    .dataframe thead th {\n",
       "        text-align: right;\n",
       "    }\n",
       "</style>\n",
       "<table border=\"1\" class=\"dataframe\">\n",
       "  <thead>\n",
       "    <tr style=\"text-align: right;\">\n",
       "      <th></th>\n",
       "      <th>first_name</th>\n",
       "      <th>last_name</th>\n",
       "      <th>subject</th>\n",
       "      <th>grade</th>\n",
       "    </tr>\n",
       "  </thead>\n",
       "  <tbody>\n",
       "    <tr>\n",
       "      <th>0</th>\n",
       "      <td>Alice</td>\n",
       "      <td>Johnson</td>\n",
       "      <td>Math</td>\n",
       "      <td>95</td>\n",
       "    </tr>\n",
       "    <tr>\n",
       "      <th>1</th>\n",
       "      <td>Alice</td>\n",
       "      <td>Johnson</td>\n",
       "      <td>English</td>\n",
       "      <td>88</td>\n",
       "    </tr>\n",
       "    <tr>\n",
       "      <th>2</th>\n",
       "      <td>Alice</td>\n",
       "      <td>Johnson</td>\n",
       "      <td>History</td>\n",
       "      <td>90</td>\n",
       "    </tr>\n",
       "    <tr>\n",
       "      <th>3</th>\n",
       "      <td>Bob</td>\n",
       "      <td>Smith</td>\n",
       "      <td>Math</td>\n",
       "      <td>82</td>\n",
       "    </tr>\n",
       "    <tr>\n",
       "      <th>4</th>\n",
       "      <td>Bob</td>\n",
       "      <td>Smith</td>\n",
       "      <td>English</td>\n",
       "      <td>76</td>\n",
       "    </tr>\n",
       "  </tbody>\n",
       "</table>\n",
       "</div>"
      ],
      "text/plain": [
       "  first_name last_name  subject  grade\n",
       "0      Alice   Johnson     Math     95\n",
       "1      Alice   Johnson  English     88\n",
       "2      Alice   Johnson  History     90\n",
       "3        Bob     Smith     Math     82\n",
       "4        Bob     Smith  English     76"
      ]
     },
     "execution_count": 46,
     "metadata": {},
     "output_type": "execute_result"
    }
   ],
   "source": [
    "combined_df = pd.read_sql_query('''\n",
    "SELECT students.first_name, students.last_name, grades.subject, grades.grade\n",
    "FROM students\n",
    "JOIN grades ON students.students_id = grades.students_id\n",
    "'''\n",
    "                                , connection)\n",
    "combined_df.head()"
   ]
  },
  {
   "cell_type": "code",
   "execution_count": 49,
   "id": "6e55fa1b",
   "metadata": {},
   "outputs": [
    {
     "data": {
      "image/png": "[encoded data removed]",
      "text/plain": [
       "<Figure size 1000x600 with 1 Axes>"
      ]
     },
     "metadata": {},
     "output_type": "display_data"
    }
   ],
   "source": [
    "average_grades = combined_df.groupby(['first_name', 'last_name'])['grade'].mean()\n",
    "student_names = average_grades.index.get_level_values(0) + \" \" + average_grades.index.get_level_values(1)\n",
    "\n",
    "plt.figure(figsize=(10,6))\n",
    "plt.bar(student_names, average_grades, color='red')\n",
    "plt.title('Average Grades for Each Student')\n",
    "plt.xlabel('Student')\n",
    "plt.ylabel('Average Grade')\n",
    "plt.show()"
   ]
  },
  {
   "cell_type": "code",
   "execution_count": 52,
   "id": "7d57623d",
   "metadata": {},
   "outputs": [
    {
     "data": {
      "image/png": "[encoded data removed]",
      "text/plain": [
       "<Figure size 1000x600 with 1 Axes>"
      ]
     },
     "metadata": {},
     "output_type": "display_data"
    }
   ],
   "source": [
    "average_subject_grades = combined_df.groupby('subject')['grade'].mean()\n",
    "\n",
    "plt.figure(figsize=(10, 6))\n",
    "plt.bar(average_subject_grades.index, average_subject_grades, color='purple')\n",
    "plt.xlabel('Subject')\n",
    "plt.ylabel('Average Grade')\n",
    "plt.title('Average Grades per Subject')\n",
    "plt.xticks(rotation=45)\n",
    "plt.tight_layout()\n",
    "plt.show()"
   ]
  }
 ],
 "metadata": {
  "kernelspec": {
   "display_name": "Python 3 (ipykernel)",
   "language": "python",
   "name": "python3"
  },
  "language_info": {
   "codemirror_mode": {
    "name": "ipython",
    "version": 3
   },
   "file_extension": ".py",
   "mimetype": "text/x-python",
   "name": "python",
   "nbconvert_exporter": "python",
   "pygments_lexer": "ipython3",
   "version": "3.11.4"
  }
 },
 "nbformat": 4,
 "nbformat_minor": 5
}
